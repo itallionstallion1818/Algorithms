{
 "cells": [
  {
   "cell_type": "markdown",
   "metadata": {},
   "source": [
    "# Linear Search\n",
    "\n",
    "<h3>The most basic searching algorithm.</h3>\n",
    "\n",
    "Suppose you have 5 different types of cricket balls as follows:-\n",
    "<br>\n",
    "1)Red leather ball.<br>\n",
    "2)White leather ball.<br>\n",
    "3)Cosco ball.<br>\n",
    "4)Rubber ball.<br>\n",
    "5)Plastic ball.<br>\n",
    "\n",
    "Now suppose all these balls are kept inside a bag. You cannot look at all the balls directly. You can put your hand inside the bag and take out only one ball at a time.\n",
    "Hence if you want to find out if a certain type of ball is present or not <strong>what do you do?</strong>\n",
    "\n",
    "You take out one ball at a time from the bag and check whether the ball is the one you were searching for.\n",
    "\n",
    "There are 2 possible outcomes:<br>\n",
    "1)You find the required ball inside the bag.<br>\n",
    "2)You empty the bag and still the ball is not inside the bag i.e the ball is not present inside the bag.\n",
    "\n",
    "Linear Search is the most intuitive searching methodology.\n",
    "It includes scanning and inspection of each element <strong>\"one at a time\"</strong> to check the presence of the desired element.\n",
    "\n"
   ]
  },
  {
   "cell_type": "markdown",
   "metadata": {},
   "source": [
    "## ALGORITHM\n",
    "\n",
    "### START\n",
    "\n",
    "<strong>Step 1</strong>:Take one element from the bag. (In technical terms access the first element from the data structure).\n",
    "<br>\n",
    "<strong>Step 2</strong>:Compare it with the desired element.If present, then stop further searching. If not present, then proceed to Step 3.\n",
    "<br>\n",
    "<strong>Step 3</strong>: Take the next element.\n",
    "<br>\n",
    "<strong>Step 4</strong>:If bag becomes empty then stop searching.\n",
    "\n",
    "### STOP"
   ]
  },
  {
   "cell_type": "markdown",
   "metadata": {},
   "source": [
    "<img src=\"../Images/linearsearch.jpg\"></img>"
   ]
  },
  {
   "cell_type": "markdown",
   "metadata": {},
   "source": [
    "Further references:<br>\n",
    "https://www.geeksforgeeks.org/linear-search/ <br>\n",
    "https://www.youtube.com/watch?v=6LOwPhPDwVc"
   ]
  },
  {
   "cell_type": "markdown",
   "metadata": {},
   "source": [
    "Yours binary,\n",
    "<br>\n",
    "<img src=\"../Images/bot.png\"><img>"
   ]
  }
 ],
 "metadata": {
  "kernelspec": {
   "display_name": "Python 3",
   "language": "python",
   "name": "python3"
  },
  "language_info": {
   "codemirror_mode": {
    "name": "ipython",
    "version": 3
   },
   "file_extension": ".py",
   "mimetype": "text/x-python",
   "name": "python",
   "nbconvert_exporter": "python",
   "pygments_lexer": "ipython3",
   "version": "3.7.3"
  }
 },
 "nbformat": 4,
 "nbformat_minor": 2
}
