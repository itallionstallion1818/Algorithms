{
 "cells": [
  {
   "cell_type": "markdown",
   "metadata": {},
   "source": [
    "# Algorithms\n",
    "We all have come across the term <strong>\"Algorithms\"</strong> in our life at some point or the other.\n",
    "<h3>What exactly is an algorithm?</h3>\n",
    "<p>Technically defining \"An algorithm is a process or a set of rules to be followed in calculations or other problem-solving operations, especially by a computer\". </p>\n",
    "This is what <b>Google</b> tells us when we search for \"algorithm definition\". Well it is correct but I believe it could be put into more simpler terms.\n",
    "\n",
    "<strong>PSSSSSSSSTTTT!!!!!When u clicked searched Google's search engine also used an algorithm to return the most suitable query to you.</strong>\n",
    "\n",
    "Click here to know more about it :https://www.google.com/search/howsearchworks/algorithms/\n",
    "<h2>\"Basically an algorithm is just a way to do something.\"</h2>\n",
    "\n",
    "Considering our everyday lives, let's say there are 2 people Greenie and Meanie :P.\n",
    "Greenie is a joyful person who gets up early and dresses up, gets ready for work and takes a cab for work.\n",
    "On the other hand Meanie wakes up late, brushes if it has been more than 3 days without brushing and speeds his way past the traffic to work on his bike.\n",
    "Now here we can observe 2 people doing different activities and accomplishing the same goal.\n",
    "\n",
    "\n",
    "<img src=\"Images/table.JPG\"></img>\n",
    "\n",
    "The point here is both the people at the end reach the office and work. That is does the same thing in different ways.\n",
    "The way of doing anything is known as an <strong>ALGORITHM.</strong>\n"
   ]
  },
  {
   "cell_type": "markdown",
   "metadata": {},
   "source": [
    "### Why do we need algorithms?\n",
    "\n",
    "Well it's pretty obvious that if we want to do something there may be numerous ways(algorithms) to do it.\n",
    "But then all of us want comfort, luxury right? Nowadays even if something is 2 minutes late people start getting flustered, it's not their fault, accept it or not but we have become slaves to technology.\n",
    "We all love to watch youtube videos, maybe food channels, stand-up comedy and what not but it being available at the palm of our hands is not satisfactory for us. There is one big thing which I believe will spoil the mood of everyone if it happens when you try to watch a youtube video.\n",
    "\n",
    "\n",
    "### Buffering\n",
    "\n",
    "\n",
    "<img src=\"Images/buffering.jpg\" style=\"height:50%;width:50%\"></img>\n",
    "\n",
    "\n",
    "Now this buffering maybe due to a weak internet connection.\n",
    "But, if that's not the case then maybe the <strong>background applications in your device might be sucking up your internet.</strong>\n",
    "Well your device is working properly no doubt, but then it can work better right?\n",
    "The whole human race is striving for better day by day that's why we are creating technologies, machines. I would like to recall a dialogue from the classic film <strong>Jurassic Park</strong> which got imprinted in my head when I saw it.\n",
    "\n",
    "\n"
   ]
  },
  {
   "cell_type": "markdown",
   "metadata": {},
   "source": [
    "<i>If I may... Um, I'll tell you the problem with the scientific power that you're using here, it didn't require any discipline to attain it. You read what others had done and you took the next step. You didn't earn the knowledge for yourselves, so you don't take any responsibility for it. Your scientists were so preoccupoed with whether they could that they didn't stop and think whether they should.</i> \n",
    "\n",
    "Now I am not against technology, I am just concerned with the misuse of it.\n",
    "Instead of playing basketball, people are now ranking up the 2K statistics sitting infront of desktops for hours and hours.\n",
    "\n",
    "Enough rant! Let's get back to business.\n",
    "So there are different ways to do the same thing. Some ways are more <strong>\"Efficient\"</strong> than the others.\n",
    "Now the term efficient can mean many things, but it all boils down to a primary need, demand of us. Which method will yield the result faster.\n",
    "Hence by efficient we can mean whether someone cleans the house faster or maybe a car which has more mileage.\n",
    "\n",
    "<h2>Hence to find out ways to do things better or perform tasks in a better manner one needs to have the knowledge of Algorithms.</h2>\n",
    "\n",
    "\n"
   ]
  },
  {
   "cell_type": "markdown",
   "metadata": {},
   "source": [
    "## A little bit about me\n",
    "\n",
    "Hey! I am the author of this article! You can call me ebot short for <strong>emotional bot</strong>.\n",
    "Like everyone of us I am also a user of technology and wants to spread the knowledge(01010100000101)[ no not binary.] but whatever bits of knowledge I have so that we can make the world a better place. \n",
    "Feel free to contact me: ap379436@gmail.com  (It's my personal mail)\n",
    "for queries,doubts ideas or anything. The bot shall reply.\n",
    "Taking your leave.\n",
    "\n",
    "<img src=\"Images/bot.png\"></img>\n",
    "\n",
    "\n"
   ]
  }
 ],
 "metadata": {
  "kernelspec": {
   "display_name": "Python 3",
   "language": "python",
   "name": "python3"
  },
  "language_info": {
   "codemirror_mode": {
    "name": "ipython",
    "version": 3
   },
   "file_extension": ".py",
   "mimetype": "text/x-python",
   "name": "python",
   "nbconvert_exporter": "python",
   "pygments_lexer": "ipython3",
   "version": "3.7.3"
  }
 },
 "nbformat": 4,
 "nbformat_minor": 2
}
